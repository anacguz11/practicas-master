{
 "cells": [
  {
   "cell_type": "markdown",
   "id": "83247967-796d-48f2-b419-2d446bcd21b1",
   "metadata": {},
   "source": [
    "# ACTIVIDAD ANÁLISIS DE INFORMACIÓN PARA BIG DATA\n",
    "# Ejercicio de Diseño de un Algoritmo\n"
   ]
  },
  {
   "cell_type": "markdown",
   "id": "4921e1c1-3f66-4159-b0fa-45aeb3c3687c",
   "metadata": {},
   "source": [
    "**Objetivo:** \n",
    "\n",
    "Crear un algoritmo en Python que ordene una lista de productos por precio y luego busque un producto específico."
   ]
  },
  {
   "cell_type": "markdown",
   "id": "689a9b94-f0be-43d4-aae9-0ee0105cb3c5",
   "metadata": {},
   "source": [
    "**Descripción del Problema:**\n",
    "\n",
    "Ordenar de menor a mayor precio los productos de una tienda local con un inventario de productos moderado, la cual tiene un ordenador con memoria limitada pero flexible en caso de necesitar uso de memoria adicional, por lo cual es importante que el algoritmo de ordenación no consuma demasiada memoria y que sea eficiente en tiempo. \n",
    "\n",
    "En esta tienda local, los clientes suelen esperar una respuesta rápida cuando solicitan el precio de un producto específico. Por lo que se necesita que cuando el usuario quiera buscar un producto específico pueda ver si está en su inventario y cuál es su precio."
   ]
  },
  {
   "cell_type": "markdown",
   "id": "c1236e09-2658-4f1e-9330-a4ccbb240b33",
   "metadata": {},
   "source": [
    "## Paso 1: Elección del Algoritmo de Ordenación"
   ]
  },
  {
   "cell_type": "markdown",
   "id": "ef1aa20f-0481-4572-bbce-0e691674e6d8",
   "metadata": {},
   "source": [
    "Estudiando cual algoritmo usar, me incliné hacia los algoritmos de Quicksort y MergeSort donde ambos son métodos de ordenación divide y vencerás. Sin embargo, investigando más allá de estos dos algoritmos, descubrí el algoritmo **Timsort,** una opción que resulta ser excelente y se usa como el algoritmo de ordenación predeterminado en Python (con la función sorted() o el método .sort() en listas) debido a su eficiencia y adaptabilidad a diferentes tamaños de listas y patrones en los datos.\n",
    "\n",
    "Considerando la eficiencia en el peor de los casos, **Timsort** sigue siendo una excelente opción en este caso, ya que aunque MergeSort y Timsort tienen complejidades de tiempo iguales en el peor de los casos, QuickSort puede ser menos consistente. Por lo que en este punto, decidí descartar QuickSort. \n",
    "\n",
    "A continuación presento un análisis en profundidad de Timsort vs MergeSort teniendo en cuenta el peor de los casos para ambos algoritmos:\n",
    "\n",
    "1. *Complejidad en el Peor de los Casos*\n",
    "Timsort: Tiene una complejidad de 𝑂(𝑛log𝑛) en el peor de los casos. Aunque fue diseñado para aprovechar datos parcialmente ordenados, su estructura garantiza un rendimiento consistente incluso en el peor caso. Esto es fundamental si el inventario puede ser altamente desordenado o tiene fluctuaciones frecuentes.\n",
    "\n",
    "MergeSort: También tiene una complejidad de 𝑂(𝑛log𝑛) en el peor de los casos. Dado que siempre sigue el mismo proceso de dividir y combinar, su rendimiento es muy estable y predecible, sin importar el estado inicial de los datos.\n",
    "\n",
    "2. *Consumo de Memoria*\n",
    "En el peor de los casos, el consumo de memoria es otro factor importante:\n",
    "\n",
    "Timsort y MergeSort ambos necesitan espacio adicional de 𝑂(𝑛) para almacenar las sublistas durante el proceso de mezcla. En el caso de una tienda con inventarios grandes y una memoria limitada, esta podría ser una consideración, pero no siempre es crítica para un tamaño de inventario manejable como el de nuestra tienda.\n",
    "\n",
    "3. *Robustez en Casos Reales y Predicibilidad*\n",
    "Para listas desordenadas o donde no se puede hacer suposiciones sobre el orden de los datos (es decir, cuando se debe considerar el peor caso), Timsort mantiene una ventaja práctica sobre MergeSort en muchos entornos reales debido a:\n",
    "\n",
    "Optimización Real de Timsort: Aunque MergeSort y Timsort son similares en el peor de los casos, Timsort incluye mejoras prácticas que lo hacen más eficiente en listas heterogéneas y en listas que pueden tener algún nivel de orden (incluso si es mínimo).\n",
    "\n",
    "Predicibilidad: En Python, Timsort ha sido probado y optimizado para funcionar de manera rápida y confiable en muchas situaciones, incluyendo el peor caso, lo que asegura un rendimiento constante y rápido en datos de tamaño pequeño a moderado, como el inventario de una tienda.\n",
    "\n",
    "**Ventajas de Timsort**\n",
    "\n",
    "Timsort combina elementos de MergeSort e Insertion Sort, y tiene varias ventajas relevantes para este caso:\n",
    "\n",
    "*Eficiencia en Datos Parcialmente Ordenados:* Timsort detecta patrones de orden preexistente en la lista y los aprovecha, lo que hace que sea extremadamente rápido en listas que ya están parcial o casi completamente ordenadas. Si la tienda suele actualizar precios o añadir productos que ya están casi en orden, Timsort es ideal, ya que puede alcanzar el mejor tiempo de 𝑂(𝑛) en listas muy ordenadas.\n",
    "\n",
    "*Estabilidad:* Timsort es un algoritmo estable, lo que significa que mantiene el orden relativo de productos con precios iguales. Esto es útil si tienes productos con el mismo precio y quieres conservar su orden original en el inventario.\n",
    "\n",
    "*Consumo Moderado de Memoria:* Aunque Timsort utiliza más memoria que QuickSort debido a su enfoque basado en combinaciones (mezclas) de sublistas, es lo suficientemente eficiente para listas de tamaño moderado como la que tiene la tienda local que estoy planteando.\n",
    "\n",
    "**Conclusión**\n",
    "En el peor de los casos, Timsort y MergeSort son las mejores opciones. Sin embargo, Timsort sigue siendo preferible en Python porque:\n",
    "\n",
    "- Ofrece optimizaciones prácticas que pueden reducir el tiempo de ejecución en situaciones reales.\n",
    "- Su rendimiento es consistente y óptimo en una variedad de casos, incluyendo el peor escenario.\n"
   ]
  },
  {
   "cell_type": "markdown",
   "id": "66082a08-062c-4d7c-8b74-270d78d10d07",
   "metadata": {},
   "source": [
    "## Paso 2: Elección del Algoritmo de Búsqueda"
   ]
  },
  {
   "cell_type": "markdown",
   "id": "7d3103fe-bf76-44a6-8d2e-e209c65617b6",
   "metadata": {},
   "source": [
    "Para la búsqueda de un producto específico después de la ordenación, manteniendo la lista ordenada por precio y utilizaré una búsqueda lineal para encontrar el producto por nombre. Esto es eficiente para listas pequeñas y cumple con los criterios de este caso. "
   ]
  },
  {
   "cell_type": "markdown",
   "id": "8a375a40-3319-45cd-afd7-1a1841419d6b",
   "metadata": {},
   "source": [
    "## Paso 3: Algoritmos y Uso"
   ]
  },
  {
   "cell_type": "code",
   "execution_count": 106,
   "id": "0ef1bd88-399a-4a40-8cdd-e52949ff432a",
   "metadata": {},
   "outputs": [
    {
     "name": "stdout",
     "output_type": "stream",
     "text": [
      "productos ordenados : '[{'nombre': 'Producto B', 'precio': 10}, {'nombre': 'Producto A', 'precio': 20}, {'nombre': 'Producto E', 'precio': 22.5}, {'nombre': 'Producto D', 'precio': 25}, {'nombre': 'Producto C', 'precio': 30}]'\n",
      "El producto 'Producto C' tiene un precio de 30.\n"
     ]
    }
   ],
   "source": [
    "# Lista de productos con sus precios\n",
    "productos = [\n",
    "    {\"nombre\": \"Producto A\", \"precio\": 20},\n",
    "    {\"nombre\": \"Producto B\", \"precio\": 10},\n",
    "    {\"nombre\": \"Producto C\", \"precio\": 30},\n",
    "    {\"nombre\": \"Producto D\", \"precio\": 25},\n",
    "    {\"nombre\": \"Producto E\", \"precio\": 22.5},\n",
    "]\n",
    "\n",
    "# Ordenar productos por precio\n",
    "productos_ordenados = sorted(productos, key=lambda producto: producto[\"precio\"])\n",
    "print(f\"productos ordenados : '{productos_ordenados}'\")\n",
    "\n",
    "# Algoritmo de búsqueda: Búsqueda lineal por nombre\n",
    "def busqueda_producto(productos, nombre_producto):\n",
    "    for producto in productos:\n",
    "        if producto[\"nombre\"] == nombre_producto:\n",
    "            return producto  # Producto encontrado\n",
    "    return None  # Producto no encontrado\n",
    "\n",
    "# Uso del algoritmo\n",
    "nombre_buscar = \"Producto C\"\n",
    "resultado = busqueda_producto(productos_ordenados, nombre_buscar)\n",
    "\n",
    "# Resultado de la búsqueda\n",
    "if resultado:\n",
    "    print(f\"El producto '{nombre_buscar}' tiene un precio de {resultado['precio']}.\")\n",
    "else:\n",
    "    print(f\"El producto '{nombre_buscar}' no está en el inventario.\")\n"
   ]
  },
  {
   "cell_type": "code",
   "execution_count": null,
   "id": "0a6c71cb-a2c2-455c-b3ce-08372171d9d9",
   "metadata": {},
   "outputs": [],
   "source": []
  }
 ],
 "metadata": {
  "kernelspec": {
   "display_name": "Python 3 (ipykernel)",
   "language": "python",
   "name": "python3"
  },
  "language_info": {
   "codemirror_mode": {
    "name": "ipython",
    "version": 3
   },
   "file_extension": ".py",
   "mimetype": "text/x-python",
   "name": "python",
   "nbconvert_exporter": "python",
   "pygments_lexer": "ipython3",
   "version": "3.12.4"
  }
 },
 "nbformat": 4,
 "nbformat_minor": 5
}
